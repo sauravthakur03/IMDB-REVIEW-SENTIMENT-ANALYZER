{
 "cells": [
  {
   "cell_type": "markdown",
   "id": "da6ff268",
   "metadata": {},
   "source": [
    "## Importing Libraries"
   ]
  },
  {
   "cell_type": "code",
   "execution_count": 2,
   "id": "2eaf014c",
   "metadata": {},
   "outputs": [],
   "source": [
    "import numpy as np\n",
    "import matplotlib.pyplot as plt\n",
    "import pandas as pd\n",
    "\n",
    "import re\n",
    "import nltk\n",
    "\n",
    "from nltk.corpus import stopwords\n",
    "from nltk.stem.porter import PorterStemmer\n",
    "from nltk.stem import WordNetLemmatizer"
   ]
  },
  {
   "cell_type": "markdown",
   "id": "b360868b",
   "metadata": {},
   "source": [
    "## Importing Dataset"
   ]
  },
  {
   "cell_type": "code",
   "execution_count": 93,
   "id": "425c0aed",
   "metadata": {
    "scrolled": true
   },
   "outputs": [
    {
     "data": {
      "text/html": [
       "<div>\n",
       "<style scoped>\n",
       "    .dataframe tbody tr th:only-of-type {\n",
       "        vertical-align: middle;\n",
       "    }\n",
       "\n",
       "    .dataframe tbody tr th {\n",
       "        vertical-align: top;\n",
       "    }\n",
       "\n",
       "    .dataframe thead th {\n",
       "        text-align: right;\n",
       "    }\n",
       "</style>\n",
       "<table border=\"1\" class=\"dataframe\">\n",
       "  <thead>\n",
       "    <tr style=\"text-align: right;\">\n",
       "      <th></th>\n",
       "      <th>text</th>\n",
       "      <th>label</th>\n",
       "    </tr>\n",
       "  </thead>\n",
       "  <tbody>\n",
       "    <tr>\n",
       "      <th>0</th>\n",
       "      <td>I grew up (b. 1965) watching and loving the Th...</td>\n",
       "      <td>0</td>\n",
       "    </tr>\n",
       "    <tr>\n",
       "      <th>1</th>\n",
       "      <td>When I put this movie in my DVD player, and sa...</td>\n",
       "      <td>0</td>\n",
       "    </tr>\n",
       "    <tr>\n",
       "      <th>2</th>\n",
       "      <td>Why do people who do not know what a particula...</td>\n",
       "      <td>0</td>\n",
       "    </tr>\n",
       "    <tr>\n",
       "      <th>3</th>\n",
       "      <td>Even though I have great interest in Biblical ...</td>\n",
       "      <td>0</td>\n",
       "    </tr>\n",
       "    <tr>\n",
       "      <th>4</th>\n",
       "      <td>Im a die hard Dads Army fan and nothing will e...</td>\n",
       "      <td>1</td>\n",
       "    </tr>\n",
       "  </tbody>\n",
       "</table>\n",
       "</div>"
      ],
      "text/plain": [
       "                                                text  label\n",
       "0  I grew up (b. 1965) watching and loving the Th...      0\n",
       "1  When I put this movie in my DVD player, and sa...      0\n",
       "2  Why do people who do not know what a particula...      0\n",
       "3  Even though I have great interest in Biblical ...      0\n",
       "4  Im a die hard Dads Army fan and nothing will e...      1"
      ]
     },
     "execution_count": 93,
     "metadata": {},
     "output_type": "execute_result"
    }
   ],
   "source": [
    "dataset = pd.read_csv('movie.csv')\n",
    "X = dataset['text']\n",
    "y = dataset.iloc[:1000, -1]\n",
    "dataset.head()"
   ]
  },
  {
   "cell_type": "markdown",
   "id": "1dc93cdb",
   "metadata": {},
   "source": [
    "## Preprocessing"
   ]
  },
  {
   "cell_type": "code",
   "execution_count": 15,
   "id": "09c6a9f5",
   "metadata": {},
   "outputs": [],
   "source": [
    "all_stopwords = stopwords.words('english')\n",
    "def preprocessing(review):\n",
    "    review = re.sub('[^a-zA-Z]', ' ', review) # Anything in the review that's not a alphabet becomes ' ' (space)\n",
    "    \n",
    "    # Converting review into lowercase\n",
    "    review = review.lower()\n",
    "    \n",
    "    review = review.split() # Splitting\n",
    "    \n",
    "    # Removing Stopwords\n",
    "    review = [word for word in review if not word in set(all_stopwords)]\n",
    "    \n",
    "    # Stemming\n",
    "    ps = PorterStemmer()\n",
    "    review = [ps.stem(word) for word in review]\n",
    "    \n",
    "    # Lemmatizing (Advance Stemming)\n",
    "    lm = WordNetLemmatizer()\n",
    "    review = [lm.lemmatize(word) for word in review]\n",
    "    \n",
    "    review = ' '.join(review) # Merging\n",
    "    \n",
    "    return review"
   ]
  },
  {
   "cell_type": "markdown",
   "id": "090f230a",
   "metadata": {},
   "source": [
    "### Creating Bag of Words"
   ]
  },
  {
   "cell_type": "code",
   "execution_count": 88,
   "id": "de222207",
   "metadata": {},
   "outputs": [],
   "source": [
    "corpus = []\n",
    "for i in range(0, 1000):\n",
    "    review = preprocessing(X[i])\n",
    "    corpus.append(review)"
   ]
  },
  {
   "cell_type": "code",
   "execution_count": 142,
   "id": "7690a0f7",
   "metadata": {},
   "outputs": [
    {
     "data": {
      "text/plain": [
       "'Not'"
      ]
     },
     "execution_count": 142,
     "metadata": {},
     "output_type": "execute_result"
    }
   ],
   "source": [
    "corpus[:2]"
   ]
  },
  {
   "cell_type": "markdown",
   "id": "8335d814",
   "metadata": {},
   "source": [
    "## Vectorization"
   ]
  },
  {
   "cell_type": "code",
   "execution_count": 90,
   "id": "4199d2cc",
   "metadata": {},
   "outputs": [],
   "source": [
    "from sklearn.feature_extraction.text import CountVectorizer\n",
    "def vectorize(corpus):\n",
    "    cv = CountVectorizer()\n",
    "    X = cv.fit_transform(corpus).toarray()\n",
    "    return X"
   ]
  },
  {
   "cell_type": "code",
   "execution_count": 146,
   "id": "354d00b6",
   "metadata": {},
   "outputs": [
    {
     "data": {
      "text/plain": [
       "1000"
      ]
     },
     "execution_count": 146,
     "metadata": {},
     "output_type": "execute_result"
    }
   ],
   "source": [
    "X = vectorize(corpus)"
   ]
  },
  {
   "cell_type": "markdown",
   "id": "6fb94bef",
   "metadata": {},
   "source": [
    "## Splitting into training and testing data"
   ]
  },
  {
   "cell_type": "code",
   "execution_count": 97,
   "id": "87a927b2",
   "metadata": {},
   "outputs": [],
   "source": [
    "from sklearn.model_selection import train_test_split\n",
    "X_train, X_test, y_train, y_test = train_test_split(X, y, test_size = 0.25, random_state = 0)"
   ]
  },
  {
   "cell_type": "markdown",
   "id": "10eb6480",
   "metadata": {},
   "source": [
    "## Model Creation: Logistic Regression"
   ]
  },
  {
   "cell_type": "code",
   "execution_count": 104,
   "id": "de9280af",
   "metadata": {},
   "outputs": [
    {
     "data": {
      "text/plain": [
       "LogisticRegression(random_state=0)"
      ]
     },
     "execution_count": 104,
     "metadata": {},
     "output_type": "execute_result"
    }
   ],
   "source": [
    "from sklearn.linear_model import LogisticRegression\n",
    "classifier = LogisticRegression(random_state = 0)\n",
    "classifier.fit(X_train, y_train)"
   ]
  },
  {
   "cell_type": "markdown",
   "id": "32f2591f",
   "metadata": {},
   "source": [
    "## Testing test data"
   ]
  },
  {
   "cell_type": "code",
   "execution_count": 105,
   "id": "1733a3a3",
   "metadata": {
    "scrolled": false
   },
   "outputs": [
    {
     "data": {
      "text/plain": [
       "array([0, 0, 1, 0, 1, 1, 1, 1, 0, 0], dtype=int64)"
      ]
     },
     "execution_count": 105,
     "metadata": {},
     "output_type": "execute_result"
    }
   ],
   "source": [
    "y_pred = classifier.predict(X_test)\n",
    "y_pred[:10]"
   ]
  },
  {
   "cell_type": "markdown",
   "id": "d02a8faa",
   "metadata": {},
   "source": [
    "## Analyzing Accuracy and Confusion matrix"
   ]
  },
  {
   "cell_type": "code",
   "execution_count": 106,
   "id": "e2156411",
   "metadata": {},
   "outputs": [
    {
     "name": "stdout",
     "output_type": "stream",
     "text": [
      "Logistic Regression \n",
      " [[101  35]\n",
      " [ 24  90]]\n",
      "76.4\n"
     ]
    }
   ],
   "source": [
    "from sklearn.metrics import confusion_matrix, accuracy_score\n",
    "cm = confusion_matrix(y_test, y_pred)\n",
    "\n",
    "print('Logistic Regression \\n', cm)\n",
    "print(accuracy_score(y_test, y_pred)*100)"
   ]
  },
  {
   "cell_type": "markdown",
   "id": "a33c8d9f",
   "metadata": {},
   "source": [
    "# Predicting Random Reviews"
   ]
  },
  {
   "cell_type": "markdown",
   "id": "b1f9a12d",
   "metadata": {},
   "source": [
    "Sample 1 (Negative): Oh my. It was like a High School drama class was given access to the GOT sets and allowed to act out their own little scripts.\n",
    "#Where were the characters? GONE! Wonderful characters. NOT THERE! Jon Snow was so bland as to be almost lobotomized. Bron, Sam, Davos, Sansa, Arya, Yara Greyjoy, Brienne - all sitting around in that nothing scene - it was like the actors were there, but no one had given them any lines for their characters; because all the characters had disappeared into some talent sucking ether.\n",
    "#To say the dialogue was like in a bad soap opera is too generous.\n",
    "#Clear D&D just wanted to get this over with. This series should have ended with Season 6.\n",
    "#So sad. So sad.\n",
    "\n",
    "Sample 2 (Positive): Varys visits Ned again in the dungeons and tells what Sansa did to save his life and advises him to accept the offer. Catelyn negotiates with the repulsive Lord Walder Frey the crossing of the river by Robb and his army and Frey accepts provided Arya and Robb marry with his children. Jon Snow receives a valuable sword from Mormont and lives a dilemma to make a choice of helping Robb or stay with the Night's Watch and to live with the consequences for the rest of his life. The infection in the wound of Drogo makes him weak and Daenerys summons the witch to heal him. She tells that a life must be sacrificed in exchange and she kills Drogo's horse. The Lannister army attacks Robb's army and discovers that Robb lured them, leaving only two thousand men behind, while eighteen thousand men have attacked Jaime's army and made him prisoner. Arya sees her father being brought chained in front of the crowd and falsely confessing his treason to save Sansa and Arya. However Joffrey betrays the deal and Ned is beheaded.\n",
    "#\"Baelor\" is so far, the best episode of \"Game of Thrones\". I would never expect the fate of Lord Eddard 'Ned' Stark. I do not believe that the witch is making a spell to heal Drogo since he slaughtered her people. My guess is that the life in exchange per Drogo's life will be his unborn child. Joffrey is probably the most despicable character so far. My vote is ten."
   ]
  },
  {
   "cell_type": "code",
   "execution_count": 166,
   "id": "577cf973",
   "metadata": {},
   "outputs": [
    {
     "name": "stdout",
     "output_type": "stream",
     "text": [
      "Enter any review: Oh my. It was like a High School drama class was given access to the GOT sets and allowed to act out their own little scripts. #Where were the characters? GONE! Wonderful characters. NOT THERE! Jon Snow was so bland as to be almost lobotomized. Bron, Sam, Davos, Sansa, Arya, Yara Greyjoy, Brienne - all sitting around in that nothing scene - it was like the actors were there, but no one had given them any lines for their characters; because all the characters had disappeared into some talent sucking ether. #To say the dialogue was like in a bad soap opera is too generous. #Clear D&D just wanted to get this over with. This series should have ended with Season 6. #So sad. So sad.\n",
      "\n",
      "\n",
      "USER DID NOT LIKE IT\n"
     ]
    }
   ],
   "source": [
    "from random import randint\n",
    "y[1000] = randint(0, 1)\n",
    "corpus.append(preprocessing(input(\"Enter any review: \")))\n",
    "classifier.fit(vectorize(corpus), y)\n",
    "sample = []\n",
    "sample.append(vectorize(corpus)[-1])\n",
    "prediction = classifier.predict(sample)\n",
    "print('')\n",
    "print('')\n",
    "print(\"USER LIKED IT\") if prediction[0] else print(\"USER DID NOT LIKE IT\")\n",
    "corpus.pop()\n",
    "y = y[:1000]"
   ]
  }
 ],
 "metadata": {
  "kernelspec": {
   "display_name": "Python 3",
   "language": "python",
   "name": "python3"
  },
  "language_info": {
   "codemirror_mode": {
    "name": "ipython",
    "version": 3
   },
   "file_extension": ".py",
   "mimetype": "text/x-python",
   "name": "python",
   "nbconvert_exporter": "python",
   "pygments_lexer": "ipython3",
   "version": "3.9.6"
  }
 },
 "nbformat": 4,
 "nbformat_minor": 5
}
